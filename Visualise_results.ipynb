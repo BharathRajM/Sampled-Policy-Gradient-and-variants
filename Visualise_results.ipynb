{
 "cells": [
  {
   "cell_type": "code",
   "execution_count": 1,
   "id": "1a3a827d",
   "metadata": {},
   "outputs": [],
   "source": [
    "import gym\n",
    "import numpy as np\n",
    "import mujoco_py\n",
    "import os\n",
    "\n",
    "import OurDDPG\n",
    "import TD3\n",
    "import SPG\n",
    "import SPGTQC\n",
    "import TQC\n",
    "import torch"
   ]
  },
  {
   "cell_type": "code",
   "execution_count": 2,
   "id": "b4a6f624",
   "metadata": {},
   "outputs": [],
   "source": [
    "env_name = [\"Ant-v4\",\"HalfCheetah-v4\",\"Hopper-v4\",\"Humanoid-v4\",\"Walker2d-v4\"]\n",
    "graphs=[\"eval_rewards.npy\",\"estimated_Q.npy\",\"true_Q.npy\"]\n",
    "env_name = env_name[3]"
   ]
  },
  {
   "cell_type": "code",
   "execution_count": 3,
   "id": "c8c52cd7",
   "metadata": {},
   "outputs": [
    {
     "name": "stderr",
     "output_type": "stream",
     "text": [
      "/home/bharath/anaconda3/envs/thesis/lib/python3.8/site-packages/gym/utils/passive_env_checker.py:69: UserWarning: \u001b[33mWARN: Agent's minimum action space value is -infinity. This is probably too low.\u001b[0m\n",
      "  logger.warn(\n",
      "/home/bharath/anaconda3/envs/thesis/lib/python3.8/site-packages/gym/utils/passive_env_checker.py:73: UserWarning: \u001b[33mWARN: Agent's maximum action space value is infinity. This is probably too high\u001b[0m\n",
      "  logger.warn(\n",
      "/home/bharath/anaconda3/envs/thesis/lib/python3.8/site-packages/gym/utils/passive_env_checker.py:97: UserWarning: \u001b[33mWARN: We recommend you to use a symmetric and normalized Box action space (range=[-1, 1]) https://stable-baselines3.readthedocs.io/en/master/guide/rl_tips.html\u001b[0m\n",
      "  logger.warn(\n"
     ]
    }
   ],
   "source": [
    "env = gym.make(env_name)\n",
    "state_dim = env.observation_space.shape[0]\n",
    "action_dim = env.action_space.shape[0]\n",
    "max_action = float(env.action_space.high[0])"
   ]
  },
  {
   "cell_type": "code",
   "execution_count": 4,
   "id": "444d4819",
   "metadata": {},
   "outputs": [],
   "source": [
    "policy_noise = 0.2\n",
    "noise_clip = 0.5\n",
    "policy_freq = 2\n",
    "\n",
    "n_nets = 5\n",
    "n_quantiles = 25\n",
    "top_quantiles_to_drop = 2\n",
    "\n",
    "args = {\"policy_noise\" : 0.2,\n",
    "        \"noise_clip\" : 0.5,\n",
    "        \"policy_freq\" : 2,\n",
    "       \"n_nets\" : 5,\n",
    "       \"n_quantiles\" : 25,\n",
    "       \"top_quantiles_to_drop\" : 2,\n",
    "       \"action_dim\" : action_dim,\n",
    "       \"max_action\" : max_action,\n",
    "       \"state_dim\" : state_dim}"
   ]
  },
  {
   "cell_type": "code",
   "execution_count": null,
   "id": "32b1eda9",
   "metadata": {},
   "outputs": [],
   "source": []
  },
  {
   "cell_type": "code",
   "execution_count": 5,
   "id": "d7b4bfda",
   "metadata": {},
   "outputs": [],
   "source": [
    "ddpg_policy = OurDDPG.DDPG(state_dim,action_dim,max_action)\n",
    "td3_policy = TD3.TD3(state_dim,action_dim,max_action)\n",
    "spg_policy = SPG.SPG(state_dim,action_dim,max_action)\n",
    "\n",
    "target_entropy = -np.prod(env.action_space.shape).item()\n",
    "spgtqc_policy = SPGTQC.SPGTQC(state_dim,action_dim,n_quantiles,n_nets,top_quantiles_to_drop,max_action,target_entropy)\n",
    "tqc_policy = TQC.TQC(state_dim,action_dim,n_quantiles,n_nets,top_quantiles_to_drop,max_action,target_entropy)"
   ]
  },
  {
   "cell_type": "code",
   "execution_count": null,
   "id": "a96919da",
   "metadata": {},
   "outputs": [],
   "source": []
  },
  {
   "cell_type": "code",
   "execution_count": 6,
   "id": "68276610",
   "metadata": {},
   "outputs": [],
   "source": [
    "ddpg_policy.load(\"models/OurDDPG_\"+env_name+\"_0\")\n",
    "td3_policy.load(\"models/TD3_\"+env_name+\"_0\")\n",
    "spg_policy.load(\"models/SPG_\"+env_name+\"_0\")\n",
    "spgtqc_policy.load(\"models/SPGTQC_\"+env_name+\"_0\")\n",
    "tqc_policy.load(\"models/TQC_\"+env_name+\"_0\")"
   ]
  },
  {
   "cell_type": "markdown",
   "id": "7c28bfa9",
   "metadata": {},
   "source": [
    "### Single agent"
   ]
  },
  {
   "cell_type": "code",
   "execution_count": 10,
   "id": "58126e60",
   "metadata": {},
   "outputs": [
    {
     "name": "stderr",
     "output_type": "stream",
     "text": [
      "xkbcommon: ERROR: /usr/share/X11/locale/iso8859-1/Compose:39:34: string literal is not a valid UTF-8 string\n",
      "xkbcommon: ERROR: /usr/share/X11/locale/iso8859-1/Compose:40:29: string literal is not a valid UTF-8 string\n",
      "xkbcommon: ERROR: /usr/share/X11/locale/iso8859-1/Compose:41:29: string literal is not a valid UTF-8 string\n",
      "xkbcommon: ERROR: /usr/share/X11/locale/iso8859-1/Compose:42:29: string literal is not a valid UTF-8 string\n",
      "xkbcommon: ERROR: /usr/share/X11/locale/iso8859-1/Compose:43:29: string literal is not a valid UTF-8 string\n",
      "xkbcommon: ERROR: /usr/share/X11/locale/iso8859-1/Compose:44:27: string literal is not a valid UTF-8 string\n",
      "xkbcommon: ERROR: /usr/share/X11/locale/iso8859-1/Compose:45:27: string literal is not a valid UTF-8 string\n",
      "xkbcommon: ERROR: /usr/share/X11/locale/iso8859-1/Compose:46:27: string literal is not a valid UTF-8 string\n",
      "xkbcommon: ERROR: /usr/share/X11/locale/iso8859-1/Compose:47:27: string literal is not a valid UTF-8 string\n",
      "xkbcommon: ERROR: /usr/share/X11/locale/iso8859-1/Compose:48:29: string literal is not a valid UTF-8 string\n",
      "xkbcommon: ERROR: /usr/share/X11/locale/iso8859-1/Compose:49:29: string literal is not a valid UTF-8 string\n",
      "xkbcommon: ERROR: /usr/share/X11/locale/iso8859-1/Compose:49:29: too many errors\n",
      "xkbcommon: ERROR: /usr/share/X11/locale/iso8859-1/Compose:49:29: failed to parse file\n",
      "/home/bharath/anaconda3/envs/thesis/lib/python3.8/site-packages/torch/distributions/distribution.py:44: UserWarning: <class 'SPGTQC.TanhNormal'> does not define `arg_constraints`. Please set `arg_constraints = {}` or initialize the distribution with `validate_args=False` to turn off validation.\n",
      "  warnings.warn(f'{self.__class__} does not define `arg_constraints`. ' +\n"
     ]
    },
    {
     "name": "stdout",
     "output_type": "stream",
     "text": [
      "total_reward 5926.66744585334\n",
      "total_reward 5942.930006475517\n",
      "total_reward 6032.399099751238\n",
      "avg_reward 5967.3321840266935\n",
      "---------------------------------------\n"
     ]
    },
    {
     "ename": "SystemExit",
     "evalue": "0",
     "output_type": "error",
     "traceback": [
      "An exception has occurred, use %tb to see the full traceback.\n",
      "\u001b[0;31mSystemExit\u001b[0m\u001b[0;31m:\u001b[0m 0\n"
     ]
    }
   ],
   "source": [
    "env = gym.make(env_name)\n",
    "avg_reward = 0\n",
    "#state,done = env.reset(), False\n",
    "eval_episodes = 3\n",
    "for i in range(eval_episodes):\n",
    "    state,done = env.reset(), False\n",
    "    total_reward = 0\n",
    "    while not done:\n",
    "        env.render()\n",
    "        #action = ddpg_policy.select_action(np.array(state))\n",
    "        #action = td3_policy.select_action(np.array(state))\n",
    "        #action = spg_policy.select_action(np.array(state))\n",
    "        #action = tqc_policy.select_action(np.array(state))\n",
    "        action = spgtqc_policy.select_action(np.array(state))\n",
    "        state,reward,done,_ = env.step(action)\n",
    "        avg_reward+=reward\n",
    "        total_reward+=reward\n",
    "    print(\"total_reward\",total_reward)\n",
    "\n",
    "avg_reward/=eval_episodes\n",
    "print(\"avg_reward\",avg_reward)\n",
    "#print(f\"Evaluation over {eval_episodes} episodes: {avg_reward:.3f}\")\n",
    "print(\"---------------------------------------\")\n",
    "env.close()"
   ]
  },
  {
   "cell_type": "code",
   "execution_count": null,
   "id": "491a2034",
   "metadata": {},
   "outputs": [],
   "source": []
  },
  {
   "cell_type": "code",
   "execution_count": null,
   "id": "5a6ff3d4",
   "metadata": {},
   "outputs": [],
   "source": []
  },
  {
   "cell_type": "code",
   "execution_count": null,
   "id": "4eef6ad6",
   "metadata": {},
   "outputs": [],
   "source": []
  },
  {
   "cell_type": "code",
   "execution_count": null,
   "id": "836c3204",
   "metadata": {},
   "outputs": [],
   "source": []
  },
  {
   "cell_type": "code",
   "execution_count": 11,
   "id": "53426dda",
   "metadata": {},
   "outputs": [
    {
     "name": "stderr",
     "output_type": "stream",
     "text": [
      "xkbcommon: ERROR: /usr/share/X11/locale/iso8859-1/Compose:39:34: string literal is not a valid UTF-8 string\n",
      "xkbcommon: ERROR: /usr/share/X11/locale/iso8859-1/Compose:40:29: string literal is not a valid UTF-8 string\n",
      "xkbcommon: ERROR: /usr/share/X11/locale/iso8859-1/Compose:41:29: string literal is not a valid UTF-8 string\n",
      "xkbcommon: ERROR: /usr/share/X11/locale/iso8859-1/Compose:42:29: string literal is not a valid UTF-8 string\n",
      "xkbcommon: ERROR: /usr/share/X11/locale/iso8859-1/Compose:43:29: string literal is not a valid UTF-8 string\n",
      "xkbcommon: ERROR: /usr/share/X11/locale/iso8859-1/Compose:44:27: string literal is not a valid UTF-8 string\n",
      "xkbcommon: ERROR: /usr/share/X11/locale/iso8859-1/Compose:45:27: string literal is not a valid UTF-8 string\n",
      "xkbcommon: ERROR: /usr/share/X11/locale/iso8859-1/Compose:46:27: string literal is not a valid UTF-8 string\n",
      "xkbcommon: ERROR: /usr/share/X11/locale/iso8859-1/Compose:47:27: string literal is not a valid UTF-8 string\n",
      "xkbcommon: ERROR: /usr/share/X11/locale/iso8859-1/Compose:48:29: string literal is not a valid UTF-8 string\n",
      "xkbcommon: ERROR: /usr/share/X11/locale/iso8859-1/Compose:49:29: string literal is not a valid UTF-8 string\n",
      "xkbcommon: ERROR: /usr/share/X11/locale/iso8859-1/Compose:49:29: too many errors\n",
      "xkbcommon: ERROR: /usr/share/X11/locale/iso8859-1/Compose:49:29: failed to parse file\n"
     ]
    }
   ],
   "source": [
    "env1 = gym.make(env_name)\n",
    "state,done = env1.reset(), False\n",
    "env1.render()"
   ]
  },
  {
   "cell_type": "code",
   "execution_count": 12,
   "id": "62181b0d",
   "metadata": {},
   "outputs": [
    {
     "ename": "SystemExit",
     "evalue": "0",
     "output_type": "error",
     "traceback": [
      "An exception has occurred, use %tb to see the full traceback.\n",
      "\u001b[0;31mSystemExit\u001b[0m\u001b[0;31m:\u001b[0m 0\n"
     ]
    }
   ],
   "source": [
    "env1.close()"
   ]
  },
  {
   "cell_type": "code",
   "execution_count": null,
   "id": "7e84dc6a",
   "metadata": {},
   "outputs": [],
   "source": []
  }
 ],
 "metadata": {
  "kernelspec": {
   "display_name": "Python 3 (ipykernel)",
   "language": "python",
   "name": "python3"
  },
  "language_info": {
   "codemirror_mode": {
    "name": "ipython",
    "version": 3
   },
   "file_extension": ".py",
   "mimetype": "text/x-python",
   "name": "python",
   "nbconvert_exporter": "python",
   "pygments_lexer": "ipython3",
   "version": "3.8.13"
  }
 },
 "nbformat": 4,
 "nbformat_minor": 5
}
