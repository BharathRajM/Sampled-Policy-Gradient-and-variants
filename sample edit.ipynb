{
 "cells": [
  {
   "cell_type": "code",
   "execution_count": 1,
   "id": "b8c9f7d7",
   "metadata": {},
   "outputs": [
    {
     "name": "stderr",
     "output_type": "stream",
     "text": [
      "/home/bharath/anaconda3/envs/thesis/lib/python3.8/site-packages/gym/utils/passive_env_checker.py:69: UserWarning: \u001b[33mWARN: Agent's minimum action space value is -infinity. This is probably too low.\u001b[0m\n",
      "  logger.warn(\n",
      "/home/bharath/anaconda3/envs/thesis/lib/python3.8/site-packages/gym/utils/passive_env_checker.py:73: UserWarning: \u001b[33mWARN: Agent's maximum action space value is infinity. This is probably too high\u001b[0m\n",
      "  logger.warn(\n",
      "/home/bharath/anaconda3/envs/thesis/lib/python3.8/site-packages/gym/utils/passive_env_checker.py:97: UserWarning: \u001b[33mWARN: We recommend you to use a symmetric and normalized Box action space (range=[-1, 1]) https://stable-baselines3.readthedocs.io/en/master/guide/rl_tips.html\u001b[0m\n",
      "  logger.warn(\n",
      "/home/bharath/anaconda3/envs/thesis/lib/python3.8/site-packages/gym/core.py:200: DeprecationWarning: \u001b[33mWARN: Function `env.seed(seed)` is marked as deprecated and will be removed in the future. Please use `env.reset(seed=seed)` instead.\u001b[0m\n",
      "  deprecation(\n"
     ]
    }
   ],
   "source": [
    "#!/usr/bin/env python\n",
    "# coding: utf-8\n",
    "\n",
    "# In[1]:\n",
    "\n",
    "\n",
    "import numpy as np\n",
    "import torch\n",
    "import gym\n",
    "import argparse\n",
    "import os\n",
    "import utils\n",
    "\n",
    "import OurDDPG\n",
    "import SPG\n",
    "import TD3\n",
    "import SPGOAC\n",
    "import SPGTQC\n",
    "\n",
    "# In[17]:\n",
    "\n",
    "\n",
    "def eval_policy(policy, env_name,seed,eval_episodes=10):\n",
    "    \n",
    "    eval_env = gym.make(env_name)\n",
    "    eval_env.seed(seed + 100)\n",
    "    avg_reward = 0\n",
    "    \n",
    "    for _ in range(eval_episodes):\n",
    "        \n",
    "        state,done = eval_env.reset(), False\n",
    "        \n",
    "        while not done:\n",
    "            action = policy.select_action(np.array(state))\n",
    "            state,reward,done,_ = eval_env.step(action)\n",
    "            avg_reward+=reward\n",
    "            \n",
    "    avg_reward/=eval_episodes\n",
    "    \n",
    "    print(\"---------------------------------------\")\n",
    "    print(f\"Evaluation over {eval_episodes} episodes: {avg_reward:.3f}\")\n",
    "    print(\"---------------------------------------\")\n",
    "    return avg_reward\n",
    "\n",
    "env_name = \"HalfCheetah-v4\"\n",
    "env = gym.make(env_name)\n",
    "\n",
    "device = torch.device(\"cuda\" if torch.cuda.is_available() else \"cpu\")\n",
    "\n",
    "max_timesteps = 1000000\n",
    "\n",
    "# set seeds\n",
    "env.seed(0)\n",
    "env.action_space.seed(0)\n",
    "torch.manual_seed(0)\n",
    "np.random.seed(0)\n",
    "seed = 0\n",
    "\n",
    "discount = 0.99\n",
    "tau = 0.005 \n",
    "\n",
    "sigma_decay = 1025000\n",
    "sigma_noise_start=0.7\n",
    "sigma_noise_final=0.01\n",
    "sigma_noise_array = np.logspace(np.log(sigma_noise_start), np.log(sigma_noise_final),int(max_timesteps), base=np.exp(1))\n",
    "search = 8\n",
    "\n",
    "batch_size = 256\n",
    "policy_noise = 0.2\n",
    "noise_clip = 0.5\n",
    "policy_freq = 2\n",
    "expl_noise = 0.1\n",
    "\n",
    "\n",
    "state_dim = env.observation_space.shape[0]\n",
    "action_dim = env.action_space.shape[0]\n",
    "max_action = float(env.action_space.high[0])\n",
    "\n",
    "kwargs = {\n",
    "    \"state_dim\" : state_dim,\n",
    "    \"action_dim\" : action_dim,\n",
    "    \"max_action\" : max_action,\n",
    "    \"discount\" : 0.99,\n",
    "    \"tau\" : 0.005\n",
    "}\n",
    "\n",
    "policy = \"SPGTQC\"\n",
    "policy_name = \"SPGTQC\"\n",
    "\n",
    "\n",
    "#initialise the policy\n",
    "if policy == \"OurDDPG\":\n",
    "    policy = OurDDPG.DDPG(**kwargs)\n",
    "\n",
    "elif policy == \"TD3\" :\n",
    "    kwargs[\"policy_noise\"] = policy_noise * max_action\n",
    "    kwargs[\"noise_clip\"] = noise_clip * max_action\n",
    "    kwargs[\"policy_freq\"] = policy_freq\n",
    "    policy = TD3.TD3(**kwargs)\n",
    "\n",
    "elif policy == \"DDPG\" :\n",
    "    policy = DDPG.DDPG(**kwargs)\n",
    "\n",
    "elif policy == \"SPG\":\n",
    "    policy = SPG.SPG(**kwargs)\n",
    "\n",
    "elif policy == \"SPGR\":\n",
    "    policy = SPGR.SPGR(**kwargs)\n",
    "\n",
    "elif policy == \"SPGTQC\":\n",
    "    kwargs[\"n_quantiles\"] = 25\n",
    "    kwargs[\"n_nets\"] = 5\n",
    "    kwargs[\"top_quantiles_to_drop\"] = 2\n",
    "    kwargs[\"target_entropy\"] = -np.prod(env.action_space.shape).item()\n",
    "    policy = SPGTQC.SPGTQC(**kwargs)\n",
    "    \n",
    "\n",
    "    \n",
    "elif policy == \"SPGOAC\":\n",
    "    policy = SPGOAC.SPGOAC(**kwargs)\n",
    "\n",
    "load_model = \"\"\n",
    "\n",
    "if load_model != \"\":\n",
    "    policy_file = file_name if load_model == \"default\" else load_model\n",
    "    policy.load(f\"./models/{policy_file}\")\n",
    "\n",
    "replay_buffer = utils.ReplayBuffer(state_dim,action_dim)\n",
    "\n",
    "\n",
    "state,done = env.reset(),False\n",
    "episode_reward = 0\n",
    "episode_timesteps = 0\n",
    "episode_num = 0\n",
    "\n",
    "\n",
    "#evaluate untrained policy    \n",
    "#evaluations = [eval_policy(policy, env_name, seed)]"
   ]
  },
  {
   "cell_type": "code",
   "execution_count": null,
   "id": "09a1aa29",
   "metadata": {},
   "outputs": [],
   "source": []
  },
  {
   "cell_type": "code",
   "execution_count": null,
   "id": "dac720c1",
   "metadata": {},
   "outputs": [],
   "source": []
  },
  {
   "cell_type": "code",
   "execution_count": 2,
   "id": "46ebdfab",
   "metadata": {},
   "outputs": [],
   "source": [
    "start_timesteps = 25000"
   ]
  },
  {
   "cell_type": "code",
   "execution_count": null,
   "id": "c4143897",
   "metadata": {},
   "outputs": [],
   "source": []
  },
  {
   "cell_type": "code",
   "execution_count": null,
   "id": "c394e865",
   "metadata": {},
   "outputs": [],
   "source": []
  },
  {
   "cell_type": "code",
   "execution_count": null,
   "id": "fb12bdf8",
   "metadata": {},
   "outputs": [
    {
     "name": "stdout",
     "output_type": "stream",
     "text": [
      "Total Timesteps: 996 Episode Num: 1 Episode Timestep:1000 Reward:-288.300\n",
      "Total Timesteps: 1996 Episode Num: 2 Episode Timestep:1000 Reward:-343.083\n",
      "Total Timesteps: 2996 Episode Num: 3 Episode Timestep:1000 Reward:-434.614\n",
      "Total Timesteps: 3996 Episode Num: 4 Episode Timestep:1000 Reward:-216.396\n",
      "Total Timesteps: 4996 Episode Num: 5 Episode Timestep:1000 Reward:-241.402\n",
      "Total Timesteps: 5996 Episode Num: 6 Episode Timestep:1000 Reward:-257.459\n",
      "Total Timesteps: 6996 Episode Num: 7 Episode Timestep:1000 Reward:-202.046\n",
      "Total Timesteps: 7996 Episode Num: 8 Episode Timestep:1000 Reward:-206.765\n",
      "Total Timesteps: 8996 Episode Num: 9 Episode Timestep:1000 Reward:-240.577\n",
      "Total Timesteps: 9996 Episode Num: 10 Episode Timestep:1000 Reward:-174.404\n",
      "Total Timesteps: 10996 Episode Num: 11 Episode Timestep:1000 Reward:-537.520\n",
      "Total Timesteps: 11996 Episode Num: 12 Episode Timestep:1000 Reward:-288.229\n",
      "Total Timesteps: 12996 Episode Num: 13 Episode Timestep:1000 Reward:-385.495\n",
      "Total Timesteps: 13996 Episode Num: 14 Episode Timestep:1000 Reward:-583.200\n",
      "Total Timesteps: 14996 Episode Num: 15 Episode Timestep:1000 Reward:-366.534\n",
      "Total Timesteps: 15996 Episode Num: 16 Episode Timestep:1000 Reward:-168.395\n",
      "Total Timesteps: 16996 Episode Num: 17 Episode Timestep:1000 Reward:-309.337\n",
      "Total Timesteps: 17996 Episode Num: 18 Episode Timestep:1000 Reward:-224.321\n",
      "Total Timesteps: 18996 Episode Num: 19 Episode Timestep:1000 Reward:-136.295\n",
      "Total Timesteps: 19996 Episode Num: 20 Episode Timestep:1000 Reward:-264.963\n",
      "Total Timesteps: 20996 Episode Num: 21 Episode Timestep:1000 Reward:-248.538\n",
      "Total Timesteps: 21996 Episode Num: 22 Episode Timestep:1000 Reward:-207.631\n",
      "Total Timesteps: 22996 Episode Num: 23 Episode Timestep:1000 Reward:-252.119\n",
      "Total Timesteps: 23996 Episode Num: 24 Episode Timestep:1000 Reward:-299.040\n",
      "Total Timesteps: 24996 Episode Num: 25 Episode Timestep:1000 Reward:-211.576\n"
     ]
    },
    {
     "name": "stderr",
     "output_type": "stream",
     "text": [
      "/home/bharath/anaconda3/envs/thesis/lib/python3.8/site-packages/torch/distributions/distribution.py:44: UserWarning: <class 'SPGTQC.TanhNormal'> does not define `arg_constraints`. Please set `arg_constraints = {}` or initialize the distribution with `validate_args=False` to turn off validation.\n",
      "  warnings.warn(f'{self.__class__} does not define `arg_constraints`. ' +\n"
     ]
    },
    {
     "name": "stdout",
     "output_type": "stream",
     "text": [
      "Total Timesteps: 25996 Episode Num: 26 Episode Timestep:1000 Reward:-267.083\n",
      "Total Timesteps: 26996 Episode Num: 27 Episode Timestep:1000 Reward:-2.686\n",
      "Total Timesteps: 27996 Episode Num: 28 Episode Timestep:1000 Reward:-23.984\n",
      "Total Timesteps: 28996 Episode Num: 29 Episode Timestep:1000 Reward:-38.872\n",
      "Total Timesteps: 29996 Episode Num: 30 Episode Timestep:1000 Reward:-54.688\n",
      "Total Timesteps: 30996 Episode Num: 31 Episode Timestep:1000 Reward:-52.560\n",
      "Total Timesteps: 31996 Episode Num: 32 Episode Timestep:1000 Reward:-48.975\n",
      "Total Timesteps: 32996 Episode Num: 33 Episode Timestep:1000 Reward:-62.496\n",
      "Total Timesteps: 33996 Episode Num: 34 Episode Timestep:1000 Reward:-86.581\n"
     ]
    }
   ],
   "source": [
    "for t in range(int(max_timesteps)):\n",
    "\n",
    "    episode_timesteps+=1\n",
    "\n",
    "    if t<start_timesteps:\n",
    "        action = env.action_space.sample()\n",
    "\n",
    "    else:\n",
    "        action = (policy.select_action(np.array(state)) + np.random.normal(0,max_action * expl_noise,size = action_dim)\n",
    "                 ).clip(-max_action,max_action)\n",
    "\n",
    "\n",
    "    next_state,reward,done,_ = env.step(action)\n",
    "    done_bool = float(done) if episode_timesteps < env._max_episode_steps else 0\n",
    "\n",
    "    #store in replay buffer\n",
    "    replay_buffer.add(state,action,next_state,reward,done_bool)\n",
    "\n",
    "    state = next_state\n",
    "    episode_reward+=reward\n",
    "\n",
    "    if t>start_timesteps:\n",
    "\n",
    "        if(policy_name == \"SPG\" or policy_name == \"SPGR\" or policy_name == \"SPGOAC\" or policy_name==\"SPGTQC\"):\n",
    "            sigma_noise = max(sigma_noise_final, sigma_noise_start - episode_timesteps/sigma_decay)\n",
    "            policy.train(replay_buffer,sigma_noise,search,batch_size)\n",
    "\n",
    "        else:\n",
    "            policy.train(replay_buffer,batch_size)\n",
    "        \n",
    "\n",
    "\n",
    "    if done:\n",
    "        print(f\"Total Timesteps: {t+1} Episode Num: {episode_num+1} Episode Timestep:{episode_timesteps} Reward:{episode_reward:.3f}\")\n",
    "\n",
    "        state,done = env.reset(),False\n",
    "        episode_reward = 0\n",
    "        episode_timesteps = 0\n",
    "        episode_num+=1\n",
    "\n",
    "        #true Q and estimated Q\n",
    "        \n",
    "        \n",
    "        \n",
    "        \n",
    "    #Evaluate\n",
    "    #if (t+1) % args.eval_freq == 0:\n",
    "    #    evaluations.append(eval_policy(policy,args.env,args.seed))\n",
    "        #np.save(f\"./results/{file_name}\",evaluations)\n",
    "        #if(True):\n",
    "        #    policy.save(f\"./models/{file_name}\")\n",
    "            \n",
    "    #Get_estimation Q values"
   ]
  },
  {
   "cell_type": "code",
   "execution_count": null,
   "id": "a9cd982d",
   "metadata": {},
   "outputs": [],
   "source": []
  },
  {
   "cell_type": "code",
   "execution_count": null,
   "id": "d37d8c7c",
   "metadata": {},
   "outputs": [],
   "source": []
  },
  {
   "cell_type": "code",
   "execution_count": 4,
   "id": "b3d0524a",
   "metadata": {},
   "outputs": [],
   "source": [
    "state,action,next_state,reward,not_done = replay_buffer.sample(batch_size)"
   ]
  },
  {
   "cell_type": "code",
   "execution_count": 14,
   "id": "fd5370dd",
   "metadata": {},
   "outputs": [
    {
     "data": {
      "text/plain": [
       "(tensor([[ 0.9882, -0.1791,  0.2323, -0.1026,  0.6802, -0.4673],\n",
       "         [ 0.8071,  0.6604, -0.5709, -0.2655,  0.9685,  0.0096],\n",
       "         [-0.3118, -0.1084,  0.9749, -0.9536, -0.2286,  0.3041],\n",
       "         ...,\n",
       "         [-0.8663, -0.7963,  0.9927, -0.9362,  0.5121,  0.7832],\n",
       "         [ 0.5541,  0.2294,  0.1981, -0.6420, -0.8532, -0.4129],\n",
       "         [ 0.8674,  0.0903, -0.0270,  0.8244,  0.7618,  0.8556]],\n",
       "        device='cuda:0', grad_fn=<TanhBackward0>),\n",
       " tensor([[-5.1604],\n",
       "         [-3.4194],\n",
       "         [-3.8088],\n",
       "         [-3.6342],\n",
       "         [ 0.3859],\n",
       "         [ 5.6318],\n",
       "         [-3.9073],\n",
       "         [-3.9281],\n",
       "         [-2.3797],\n",
       "         [-0.5204],\n",
       "         [-3.5570],\n",
       "         [-0.5925],\n",
       "         [-2.9606],\n",
       "         [ 1.0766],\n",
       "         [ 3.8044],\n",
       "         [-2.7180],\n",
       "         [-0.4518],\n",
       "         [-1.6279],\n",
       "         [-4.8664],\n",
       "         [-4.3699],\n",
       "         [-2.1141],\n",
       "         [-3.5751],\n",
       "         [-0.5173],\n",
       "         [-0.2124],\n",
       "         [-1.8746],\n",
       "         [-3.1239],\n",
       "         [ 1.1447],\n",
       "         [-3.6607],\n",
       "         [-2.8715],\n",
       "         [-2.8884],\n",
       "         [-3.2152],\n",
       "         [-5.1324],\n",
       "         [ 2.4478],\n",
       "         [-1.8021],\n",
       "         [-4.9551],\n",
       "         [-5.1519],\n",
       "         [-3.9792],\n",
       "         [-4.1312],\n",
       "         [-4.0769],\n",
       "         [-4.5485],\n",
       "         [-0.0186],\n",
       "         [-3.5818],\n",
       "         [-5.2966],\n",
       "         [-2.9728],\n",
       "         [-1.9810],\n",
       "         [-3.5472],\n",
       "         [-3.9223],\n",
       "         [-4.1351],\n",
       "         [-4.5297],\n",
       "         [-3.7068],\n",
       "         [-0.8387],\n",
       "         [-0.5138],\n",
       "         [-4.1120],\n",
       "         [ 1.6232],\n",
       "         [-4.1462],\n",
       "         [-2.9321],\n",
       "         [-4.1604],\n",
       "         [-5.2337],\n",
       "         [ 0.7981],\n",
       "         [ 0.3634],\n",
       "         [-0.5997],\n",
       "         [-4.6347],\n",
       "         [-1.1018],\n",
       "         [-2.9627],\n",
       "         [ 2.4089],\n",
       "         [-3.8579],\n",
       "         [-1.3099],\n",
       "         [-3.7838],\n",
       "         [-5.3253],\n",
       "         [-2.1654],\n",
       "         [-3.9370],\n",
       "         [-2.8208],\n",
       "         [-2.8891],\n",
       "         [-2.6374],\n",
       "         [-4.2318],\n",
       "         [-0.4112],\n",
       "         [-3.4252],\n",
       "         [-4.4148],\n",
       "         [-2.7172],\n",
       "         [-2.3832],\n",
       "         [ 1.0945],\n",
       "         [-2.3253],\n",
       "         [-4.5035],\n",
       "         [-7.0986],\n",
       "         [-0.9924],\n",
       "         [-3.8437],\n",
       "         [ 3.4853],\n",
       "         [ 0.4423],\n",
       "         [-4.2643],\n",
       "         [-2.8146],\n",
       "         [-4.2903],\n",
       "         [-4.8467],\n",
       "         [-3.3017],\n",
       "         [-2.5846],\n",
       "         [ 2.1409],\n",
       "         [-3.2711],\n",
       "         [-5.6489],\n",
       "         [-0.1736],\n",
       "         [-4.4350],\n",
       "         [-1.2864],\n",
       "         [-4.4484],\n",
       "         [-2.0863],\n",
       "         [ 0.4971],\n",
       "         [-0.9345],\n",
       "         [-4.9274],\n",
       "         [-0.3881],\n",
       "         [-4.2842],\n",
       "         [-5.0381],\n",
       "         [-2.9931],\n",
       "         [-5.3326],\n",
       "         [-4.6727],\n",
       "         [-4.1423],\n",
       "         [-1.8988],\n",
       "         [-2.9867],\n",
       "         [-3.1780],\n",
       "         [-4.0787],\n",
       "         [-3.2918],\n",
       "         [-3.7602],\n",
       "         [-2.2472],\n",
       "         [-2.0378],\n",
       "         [-3.2334],\n",
       "         [ 3.2356],\n",
       "         [ 3.0846],\n",
       "         [-3.1168],\n",
       "         [ 0.5372],\n",
       "         [-3.5641],\n",
       "         [-5.9538],\n",
       "         [-0.4604],\n",
       "         [-2.4943],\n",
       "         [-3.8194],\n",
       "         [-4.2683],\n",
       "         [-3.9289],\n",
       "         [-3.4077],\n",
       "         [-0.4607],\n",
       "         [-1.7030],\n",
       "         [-3.2864],\n",
       "         [-1.5297],\n",
       "         [-3.3146],\n",
       "         [-1.7920],\n",
       "         [-1.2868],\n",
       "         [-3.6269],\n",
       "         [-3.9155],\n",
       "         [-1.3087],\n",
       "         [-2.2349],\n",
       "         [-3.2936],\n",
       "         [-3.0720],\n",
       "         [-0.1324],\n",
       "         [-3.2700],\n",
       "         [-3.9558],\n",
       "         [-3.5675],\n",
       "         [-1.9486],\n",
       "         [ 2.5964],\n",
       "         [ 0.3946],\n",
       "         [-1.4472],\n",
       "         [-7.4101],\n",
       "         [-1.4747],\n",
       "         [-0.9256],\n",
       "         [-0.4339],\n",
       "         [-4.1168],\n",
       "         [-2.5500],\n",
       "         [-5.6629],\n",
       "         [-4.3906],\n",
       "         [-2.5740],\n",
       "         [-2.8533],\n",
       "         [-0.1656],\n",
       "         [-4.8696],\n",
       "         [-3.7312],\n",
       "         [-1.2796],\n",
       "         [-6.0149],\n",
       "         [-3.7208],\n",
       "         [-3.0627],\n",
       "         [-4.1618],\n",
       "         [-5.2504],\n",
       "         [-3.8988],\n",
       "         [-4.2684],\n",
       "         [-3.1770],\n",
       "         [-4.7234],\n",
       "         [-3.0305],\n",
       "         [-3.7637],\n",
       "         [-4.4346],\n",
       "         [-3.9579],\n",
       "         [-2.3531],\n",
       "         [-2.9106],\n",
       "         [-3.9469],\n",
       "         [ 2.5612],\n",
       "         [-4.5146],\n",
       "         [-3.6681],\n",
       "         [-4.3789],\n",
       "         [-2.1781],\n",
       "         [-2.7809],\n",
       "         [ 1.3000],\n",
       "         [ 0.2955],\n",
       "         [ 0.1901],\n",
       "         [-3.7707],\n",
       "         [-3.9298],\n",
       "         [-3.8577],\n",
       "         [-3.9437],\n",
       "         [-2.5772],\n",
       "         [-3.2846],\n",
       "         [-4.8277],\n",
       "         [-1.8610],\n",
       "         [-4.6150],\n",
       "         [-1.6421],\n",
       "         [-0.2382],\n",
       "         [-1.8093],\n",
       "         [-3.7253],\n",
       "         [-4.8543],\n",
       "         [-4.2918],\n",
       "         [-4.3597],\n",
       "         [-1.6255],\n",
       "         [-3.6215],\n",
       "         [-0.4880],\n",
       "         [-0.9380],\n",
       "         [-3.6892],\n",
       "         [-4.1515],\n",
       "         [ 0.2305],\n",
       "         [-1.3024],\n",
       "         [-1.3409],\n",
       "         [-4.3768],\n",
       "         [-3.6350],\n",
       "         [-2.6002],\n",
       "         [-3.3851],\n",
       "         [-1.2956],\n",
       "         [-1.9444],\n",
       "         [-4.1590],\n",
       "         [-4.7782],\n",
       "         [-4.7941],\n",
       "         [-1.5743],\n",
       "         [-3.7039],\n",
       "         [-3.9284],\n",
       "         [-4.4152],\n",
       "         [-1.3013],\n",
       "         [-0.5126],\n",
       "         [ 1.2151],\n",
       "         [-3.4419],\n",
       "         [-2.3638],\n",
       "         [-0.5505],\n",
       "         [-3.8854],\n",
       "         [-3.5392],\n",
       "         [-3.2272],\n",
       "         [-3.2733],\n",
       "         [-4.9847],\n",
       "         [-0.3135],\n",
       "         [-2.7432],\n",
       "         [-5.6866],\n",
       "         [-5.4211],\n",
       "         [-3.3230],\n",
       "         [-3.8130],\n",
       "         [-0.9228],\n",
       "         [-3.2753],\n",
       "         [-2.5315],\n",
       "         [-0.8678],\n",
       "         [-0.2581],\n",
       "         [-0.1581],\n",
       "         [-5.7273],\n",
       "         [-3.5135]], device='cuda:0', grad_fn=<SumBackward1>))"
      ]
     },
     "execution_count": 14,
     "metadata": {},
     "output_type": "execute_result"
    }
   ],
   "source": [
    "pi_s"
   ]
  },
  {
   "cell_type": "code",
   "execution_count": 6,
   "id": "0fed9819",
   "metadata": {},
   "outputs": [
    {
     "data": {
      "text/plain": [
       "tensor([[ 0.2133,  0.4590,  0.0872,  0.8701,  0.6317, -0.9945],\n",
       "        [-0.4006, -0.1546, -0.9434, -0.7514,  0.3412,  0.2944],\n",
       "        [ 0.2739, -0.4604, -0.9181, -0.9669,  0.6265,  0.8255],\n",
       "        ...,\n",
       "        [ 0.7148, -0.9328,  0.4593, -0.6487,  0.7264,  0.0829],\n",
       "        [ 0.2133,  0.4590,  0.0872,  0.8701,  0.6317, -0.9945],\n",
       "        [ 0.2739, -0.4604, -0.9181, -0.9669,  0.6265,  0.8255]],\n",
       "       device='cuda:0')"
      ]
     },
     "execution_count": 6,
     "metadata": {},
     "output_type": "execute_result"
    }
   ],
   "source": [
    "action"
   ]
  },
  {
   "cell_type": "code",
   "execution_count": null,
   "id": "eb6e5582",
   "metadata": {},
   "outputs": [],
   "source": []
  },
  {
   "cell_type": "code",
   "execution_count": 7,
   "id": "d41a9b11",
   "metadata": {},
   "outputs": [
    {
     "data": {
      "text/plain": [
       "tensor([[-8.2864e-02, -7.3421e-02,  1.6085e-01,  ...,  1.2110e+01,\n",
       "         -4.7822e+00, -1.2098e+01],\n",
       "        [-5.1448e-02,  7.0877e-02,  6.5625e-02,  ..., -6.7238e+00,\n",
       "         -1.4724e+00,  6.4663e+00],\n",
       "        [-3.9027e-02, -4.7185e-02,  7.5098e-02,  ..., -1.0009e+01,\n",
       "          6.7585e+00,  6.9456e+00],\n",
       "        ...,\n",
       "        [-8.7302e-02,  5.8925e-03,  2.9670e-01,  ...,  8.6590e-01,\n",
       "         -9.1623e-01, -5.7730e+00],\n",
       "        [-8.2864e-02, -7.3421e-02,  1.6085e-01,  ...,  1.2110e+01,\n",
       "         -4.7822e+00, -1.2098e+01],\n",
       "        [-3.9027e-02, -4.7185e-02,  7.5098e-02,  ..., -1.0009e+01,\n",
       "          6.7585e+00,  6.9456e+00]], device='cuda:0')"
      ]
     },
     "execution_count": 7,
     "metadata": {},
     "output_type": "execute_result"
    }
   ],
   "source": [
    "next_state"
   ]
  },
  {
   "cell_type": "code",
   "execution_count": 8,
   "id": "1a631167",
   "metadata": {},
   "outputs": [],
   "source": [
    "new_next_action, next_log_pi = policy.actor(state)\n",
    "alpha = torch.exp(policy.log_alpha)"
   ]
  },
  {
   "cell_type": "code",
   "execution_count": 9,
   "id": "3c66a642",
   "metadata": {},
   "outputs": [],
   "source": [
    "next_z = policy.critic_target(next_state,new_next_action)"
   ]
  },
  {
   "cell_type": "code",
   "execution_count": 10,
   "id": "bd8cddf0",
   "metadata": {},
   "outputs": [
    {
     "data": {
      "text/plain": [
       "torch.Size([256, 5, 25])"
      ]
     },
     "execution_count": 10,
     "metadata": {},
     "output_type": "execute_result"
    }
   ],
   "source": [
    "next_z.shape\n"
   ]
  },
  {
   "cell_type": "code",
   "execution_count": 11,
   "id": "c9336c4c",
   "metadata": {},
   "outputs": [],
   "source": [
    "sorted_z,_ = torch.sort(next_z.reshape(batch_size,-1))"
   ]
  },
  {
   "cell_type": "code",
   "execution_count": 12,
   "id": "39733846",
   "metadata": {},
   "outputs": [
    {
     "data": {
      "text/plain": [
       "torch.Size([256, 125])"
      ]
     },
     "execution_count": 12,
     "metadata": {},
     "output_type": "execute_result"
    }
   ],
   "source": [
    "sorted_z.shape"
   ]
  },
  {
   "cell_type": "code",
   "execution_count": 13,
   "id": "9f64a24a",
   "metadata": {},
   "outputs": [
    {
     "data": {
      "text/plain": [
       "torch.Size([256, 125])"
      ]
     },
     "execution_count": 13,
     "metadata": {},
     "output_type": "execute_result"
    }
   ],
   "source": [
    "_.shape"
   ]
  },
  {
   "cell_type": "code",
   "execution_count": 14,
   "id": "fe8d2013",
   "metadata": {},
   "outputs": [],
   "source": [
    "sorted_z_part = sorted_z[:, :policy.quantiles_total-policy.top_quantiles_to_drop]"
   ]
  },
  {
   "cell_type": "code",
   "execution_count": null,
   "id": "8724fdb5",
   "metadata": {},
   "outputs": [],
   "source": []
  },
  {
   "cell_type": "code",
   "execution_count": 15,
   "id": "5aea4b54",
   "metadata": {},
   "outputs": [
    {
     "data": {
      "text/plain": [
       "torch.Size([256, 115])"
      ]
     },
     "execution_count": 15,
     "metadata": {},
     "output_type": "execute_result"
    }
   ],
   "source": [
    "sorted_z_part.shape"
   ]
  },
  {
   "cell_type": "code",
   "execution_count": 16,
   "id": "830ea758",
   "metadata": {},
   "outputs": [],
   "source": [
    "#compute target\n",
    "target = reward + not_done*policy.discount*(sorted_z - alpha*next_log_pi)"
   ]
  },
  {
   "cell_type": "code",
   "execution_count": 17,
   "id": "a26fc56d",
   "metadata": {},
   "outputs": [
    {
     "data": {
      "text/plain": [
       "torch.Size([256, 125])"
      ]
     },
     "execution_count": 17,
     "metadata": {},
     "output_type": "execute_result"
    }
   ],
   "source": [
    "target.shape"
   ]
  },
  {
   "cell_type": "code",
   "execution_count": 18,
   "id": "5aba06ca",
   "metadata": {},
   "outputs": [],
   "source": [
    "cur_z = policy.critic(state,action)"
   ]
  },
  {
   "cell_type": "code",
   "execution_count": 31,
   "id": "e041229c",
   "metadata": {},
   "outputs": [
    {
     "data": {
      "text/plain": [
       "256"
      ]
     },
     "execution_count": 31,
     "metadata": {},
     "output_type": "execute_result"
    }
   ],
   "source": [
    "len(cur_z.mean(2).mean(1,keepdim=True))"
   ]
  },
  {
   "cell_type": "code",
   "execution_count": 12,
   "id": "4029b451",
   "metadata": {},
   "outputs": [],
   "source": [
    "next_z.reshape(batch_size,-1)"
   ]
  },
  {
   "cell_type": "code",
   "execution_count": 132,
   "id": "732f4d0f",
   "metadata": {},
   "outputs": [
    {
     "data": {
      "text/plain": [
       "tensor(1.2404, device='cuda:0', grad_fn=<MeanBackward0>)"
      ]
     },
     "execution_count": 132,
     "metadata": {},
     "output_type": "execute_result"
    }
   ],
   "source": [
    "quantile_huber_loss_f(cur_z,target)"
   ]
  },
  {
   "cell_type": "code",
   "execution_count": 84,
   "id": "f4043fe1",
   "metadata": {},
   "outputs": [
    {
     "data": {
      "text/plain": [
       "torch.Size([256, 5, 25])"
      ]
     },
     "execution_count": 84,
     "metadata": {},
     "output_type": "execute_result"
    }
   ],
   "source": [
    "cur_z.shape"
   ]
  },
  {
   "cell_type": "code",
   "execution_count": 75,
   "id": "e4de22f7",
   "metadata": {},
   "outputs": [],
   "source": [
    "target = target.reshape(cur_z.shape)"
   ]
  },
  {
   "cell_type": "code",
   "execution_count": 85,
   "id": "e07ec646",
   "metadata": {},
   "outputs": [
    {
     "data": {
      "text/plain": [
       "torch.Size([256, 5, 25])"
      ]
     },
     "execution_count": 85,
     "metadata": {},
     "output_type": "execute_result"
    }
   ],
   "source": [
    "target.shape"
   ]
  },
  {
   "cell_type": "code",
   "execution_count": 79,
   "id": "94eca76a",
   "metadata": {},
   "outputs": [
    {
     "data": {
      "text/plain": [
       "torch.Size([256, 5, 25])"
      ]
     },
     "execution_count": 79,
     "metadata": {},
     "output_type": "execute_result"
    }
   ],
   "source": [
    "target[:,:].shape"
   ]
  },
  {
   "cell_type": "code",
   "execution_count": 87,
   "id": "c509114f",
   "metadata": {},
   "outputs": [],
   "source": [
    "pairwise_delta = target[:,:] - cur_z[:, :]\n",
    "abs_pairwise_delta = torch.abs(pairwise_delta)"
   ]
  },
  {
   "cell_type": "code",
   "execution_count": 88,
   "id": "fdf6e00d",
   "metadata": {},
   "outputs": [
    {
     "data": {
      "text/plain": [
       "torch.Size([256, 5, 25])"
      ]
     },
     "execution_count": 88,
     "metadata": {},
     "output_type": "execute_result"
    }
   ],
   "source": [
    "abs_pairwise_delta.shape"
   ]
  },
  {
   "cell_type": "code",
   "execution_count": 89,
   "id": "d6ba7f29",
   "metadata": {},
   "outputs": [],
   "source": [
    "huber_loss = torch.where(abs_pairwise_delta>1,\n",
    "                         abs_pairwise_delta - 0.5,\n",
    "                         pairwise_delta ** 2 * 0.5)\n"
   ]
  },
  {
   "cell_type": "code",
   "execution_count": 91,
   "id": "7f410281",
   "metadata": {},
   "outputs": [
    {
     "data": {
      "text/plain": [
       "torch.Size([256, 5, 25])"
      ]
     },
     "execution_count": 91,
     "metadata": {},
     "output_type": "execute_result"
    }
   ],
   "source": [
    "huber_loss.shape"
   ]
  },
  {
   "cell_type": "code",
   "execution_count": 92,
   "id": "2818e30b",
   "metadata": {},
   "outputs": [],
   "source": [
    "n_quantiles = cur_z.shape[2]"
   ]
  },
  {
   "cell_type": "code",
   "execution_count": 93,
   "id": "55ff1aed",
   "metadata": {},
   "outputs": [
    {
     "data": {
      "text/plain": [
       "25"
      ]
     },
     "execution_count": 93,
     "metadata": {},
     "output_type": "execute_result"
    }
   ],
   "source": [
    "n_quantiles"
   ]
  },
  {
   "cell_type": "code",
   "execution_count": 94,
   "id": "76096e79",
   "metadata": {},
   "outputs": [],
   "source": [
    "tau = torch.arange(n_quantiles, device = device).float() / n_quantiles + 1 / 2 / n_quantiles"
   ]
  },
  {
   "cell_type": "code",
   "execution_count": 97,
   "id": "c5995f4c",
   "metadata": {},
   "outputs": [
    {
     "data": {
      "text/plain": [
       "tensor([0.0200, 0.0600, 0.1000, 0.1400, 0.1800, 0.2200, 0.2600, 0.3000, 0.3400,\n",
       "        0.3800, 0.4200, 0.4600, 0.5000, 0.5400, 0.5800, 0.6200, 0.6600, 0.7000,\n",
       "        0.7400, 0.7800, 0.8200, 0.8600, 0.9000, 0.9400, 0.9800],\n",
       "       device='cuda:0')"
      ]
     },
     "execution_count": 97,
     "metadata": {},
     "output_type": "execute_result"
    }
   ],
   "source": [
    "tau"
   ]
  },
  {
   "cell_type": "code",
   "execution_count": 105,
   "id": "dbdf65f5",
   "metadata": {},
   "outputs": [
    {
     "data": {
      "text/plain": [
       "torch.Size([1, 1, 1, 25])"
      ]
     },
     "execution_count": 105,
     "metadata": {},
     "output_type": "execute_result"
    }
   ],
   "source": [
    "tau[None, None,None, :].shape "
   ]
  },
  {
   "cell_type": "code",
   "execution_count": 106,
   "id": "ca7131da",
   "metadata": {},
   "outputs": [
    {
     "data": {
      "text/plain": [
       "torch.Size([256, 5, 25])"
      ]
     },
     "execution_count": 106,
     "metadata": {},
     "output_type": "execute_result"
    }
   ],
   "source": [
    "pairwise_delta.shape"
   ]
  },
  {
   "cell_type": "code",
   "execution_count": 108,
   "id": "5968ae05",
   "metadata": {},
   "outputs": [
    {
     "data": {
      "text/plain": [
       "tensor([[[[ 0.0200,  0.0600,  0.1000,  ...,  0.9000,  0.9400,  0.9800],\n",
       "          [ 0.0200,  0.0600,  0.1000,  ...,  0.9000,  0.9400,  0.9800],\n",
       "          [ 0.0200,  0.0600,  0.1000,  ...,  0.9000,  0.9400,  0.9800],\n",
       "          [ 0.0200,  0.0600,  0.1000,  ...,  0.9000,  0.9400,  0.9800],\n",
       "          [ 0.0200,  0.0600,  0.1000,  ...,  0.9000,  0.9400,  0.9800]],\n",
       "\n",
       "         [[ 0.0200,  0.0600,  0.1000,  ...,  0.9000,  0.9400,  0.9800],\n",
       "          [ 0.0200,  0.0600,  0.1000,  ...,  0.9000,  0.9400,  0.9800],\n",
       "          [ 0.0200,  0.0600,  0.1000,  ...,  0.9000,  0.9400,  0.9800],\n",
       "          [ 0.0200,  0.0600,  0.1000,  ...,  0.9000,  0.9400,  0.9800],\n",
       "          [ 0.0200,  0.0600,  0.1000,  ...,  0.9000,  0.9400,  0.9800]],\n",
       "\n",
       "         [[ 0.0200,  0.0600,  0.1000,  ...,  0.9000,  0.9400,  0.9800],\n",
       "          [ 0.0200,  0.0600,  0.1000,  ...,  0.9000,  0.9400,  0.9800],\n",
       "          [ 0.0200,  0.0600,  0.1000,  ...,  0.9000,  0.9400,  0.9800],\n",
       "          [ 0.0200,  0.0600,  0.1000,  ...,  0.9000,  0.9400,  0.9800],\n",
       "          [ 0.0200,  0.0600,  0.1000,  ...,  0.9000,  0.9400,  0.9800]],\n",
       "\n",
       "         ...,\n",
       "\n",
       "         [[-0.9800, -0.9400, -0.9000,  ...,  0.9000, -0.0600, -0.0200],\n",
       "          [ 0.0200, -0.9400,  0.1000,  ..., -0.1000,  0.9400,  0.9800],\n",
       "          [-0.9800,  0.0600,  0.1000,  ...,  0.9000,  0.9400, -0.0200],\n",
       "          [ 0.0200,  0.0600, -0.9000,  ...,  0.9000,  0.9400,  0.9800],\n",
       "          [ 0.0200, -0.9400, -0.9000,  ...,  0.9000,  0.9400,  0.9800]],\n",
       "\n",
       "         [[-0.9800, -0.9400, -0.9000,  ..., -0.1000, -0.0600, -0.0200],\n",
       "          [-0.9800, -0.9400, -0.9000,  ..., -0.1000, -0.0600, -0.0200],\n",
       "          [-0.9800, -0.9400, -0.9000,  ..., -0.1000, -0.0600, -0.0200],\n",
       "          [-0.9800, -0.9400, -0.9000,  ..., -0.1000, -0.0600, -0.0200],\n",
       "          [-0.9800, -0.9400, -0.9000,  ..., -0.1000, -0.0600, -0.0200]],\n",
       "\n",
       "         [[ 0.0200,  0.0600,  0.1000,  ...,  0.9000,  0.9400,  0.9800],\n",
       "          [ 0.0200,  0.0600,  0.1000,  ...,  0.9000,  0.9400,  0.9800],\n",
       "          [ 0.0200,  0.0600,  0.1000,  ...,  0.9000,  0.9400,  0.9800],\n",
       "          [ 0.0200,  0.0600,  0.1000,  ...,  0.9000,  0.9400,  0.9800],\n",
       "          [ 0.0200,  0.0600,  0.1000,  ...,  0.9000,  0.9400,  0.9800]]]],\n",
       "       device='cuda:0')"
      ]
     },
     "execution_count": 108,
     "metadata": {},
     "output_type": "execute_result"
    }
   ],
   "source": [
    "tau[None, None, None, :] - (pairwise_delta < 0).float()"
   ]
  },
  {
   "cell_type": "code",
   "execution_count": 109,
   "id": "cfe6b481",
   "metadata": {},
   "outputs": [],
   "source": [
    "\n",
    "\n",
    "loss = (torch.abs(tau[None, None, None, :] - (pairwise_delta < 0).float()) * huber_loss).mean()"
   ]
  },
  {
   "cell_type": "code",
   "execution_count": 110,
   "id": "34074f01",
   "metadata": {},
   "outputs": [
    {
     "data": {
      "text/plain": [
       "tensor(1.0929, device='cuda:0', grad_fn=<MeanBackward0>)"
      ]
     },
     "execution_count": 110,
     "metadata": {},
     "output_type": "execute_result"
    }
   ],
   "source": [
    "loss"
   ]
  },
  {
   "cell_type": "code",
   "execution_count": 131,
   "id": "1b1e44e0",
   "metadata": {},
   "outputs": [],
   "source": []
  },
  {
   "cell_type": "code",
   "execution_count": null,
   "id": "61b84bd0",
   "metadata": {},
   "outputs": [],
   "source": []
  },
  {
   "cell_type": "code",
   "execution_count": null,
   "id": "08abdbe0",
   "metadata": {},
   "outputs": [],
   "source": []
  },
  {
   "cell_type": "code",
   "execution_count": null,
   "id": "3232888f",
   "metadata": {},
   "outputs": [],
   "source": [
    "def quantile_huber_loss_f(quantiles,samples):\n",
    "    pairwise_delta = samples[:None,None,:] - quantiles[:, :, :, None]\n",
    "    abs_pairwise_delta = torch.abs(pairwise_delta)\n",
    "    huber_loss = torch.where(abs_pairwise_delta>1,\n",
    "                             abs_pairwise_delta - 0.5,\n",
    "                             pairwise_delta ** 2 * 0.5)\n",
    "    \n",
    "    n_quantiles = quantiles.shape[2]\n",
    "    tau = torch.arange(n_quantiles, device = DEVICE).float() / n_quantiles + 1 / 2 / n_quantiles\n",
    "    loss = (torch.abs(tau[None, None, :, None] - (pairwise_delta < 0).float()) * huber_loss).mean()\n",
    "    return loss"
   ]
  },
  {
   "cell_type": "code",
   "execution_count": 79,
   "id": "7afdc253",
   "metadata": {},
   "outputs": [
    {
     "name": "stderr",
     "output_type": "stream",
     "text": [
      "/home/bharath/anaconda3/envs/thesis/lib/python3.8/site-packages/gym/utils/passive_env_checker.py:69: UserWarning: \u001b[33mWARN: Agent's minimum action space value is -infinity. This is probably too low.\u001b[0m\n",
      "  logger.warn(\n",
      "/home/bharath/anaconda3/envs/thesis/lib/python3.8/site-packages/gym/utils/passive_env_checker.py:73: UserWarning: \u001b[33mWARN: Agent's maximum action space value is infinity. This is probably too high\u001b[0m\n",
      "  logger.warn(\n",
      "/home/bharath/anaconda3/envs/thesis/lib/python3.8/site-packages/gym/utils/passive_env_checker.py:97: UserWarning: \u001b[33mWARN: We recommend you to use a symmetric and normalized Box action space (range=[-1, 1]) https://stable-baselines3.readthedocs.io/en/master/guide/rl_tips.html\u001b[0m\n",
      "  logger.warn(\n",
      "/home/bharath/anaconda3/envs/thesis/lib/python3.8/site-packages/gym/core.py:200: DeprecationWarning: \u001b[33mWARN: Function `env.seed(seed)` is marked as deprecated and will be removed in the future. Please use `env.reset(seed=seed)` instead.\u001b[0m\n",
      "  deprecation(\n"
     ]
    },
    {
     "data": {
      "text/plain": [
       "(array([-0.04487259], dtype=float32), array([0.01115189], dtype=float32))"
      ]
     },
     "execution_count": 79,
     "metadata": {},
     "output_type": "execute_result"
    }
   ],
   "source": [
    "get_estimation_bias(policy_name,policy,env_name,0.99,0)"
   ]
  },
  {
   "cell_type": "code",
   "execution_count": 66,
   "id": "860f5f69",
   "metadata": {},
   "outputs": [],
   "source": [
    "e_Q,t_Q = get_estimation_bias(policy,env)\n",
    "estimated_Q.append(e_Q)\n",
    "true_Q.append(t_Q)"
   ]
  },
  {
   "cell_type": "code",
   "execution_count": 80,
   "id": "497b2556",
   "metadata": {},
   "outputs": [
    {
     "data": {
      "text/plain": [
       "<SPG.SPG at 0x7f83340df640>"
      ]
     },
     "execution_count": 80,
     "metadata": {},
     "output_type": "execute_result"
    }
   ],
   "source": [
    "policy"
   ]
  },
  {
   "cell_type": "code",
   "execution_count": null,
   "id": "f95fae1c",
   "metadata": {},
   "outputs": [],
   "source": []
  },
  {
   "cell_type": "code",
   "execution_count": 58,
   "id": "7c997ff8",
   "metadata": {},
   "outputs": [],
   "source": [
    "#true Q value and estimated Q values\n",
    "true_Q = []\n",
    "estimated_Q = []"
   ]
  },
  {
   "cell_type": "code",
   "execution_count": 68,
   "id": "2939cc27",
   "metadata": {},
   "outputs": [
    {
     "data": {
      "text/plain": [
       "[array([-0.05067963], dtype=float32),\n",
       " array([-0.05271594], dtype=float32),\n",
       " array([-0.05538835], dtype=float32),\n",
       " array([-0.04230079], dtype=float32),\n",
       " array([-0.05235437], dtype=float32),\n",
       " array([-0.05509874], dtype=float32)]"
      ]
     },
     "execution_count": 68,
     "metadata": {},
     "output_type": "execute_result"
    }
   ],
   "source": [
    "estimated_Q"
   ]
  },
  {
   "cell_type": "code",
   "execution_count": 67,
   "id": "a75d3615",
   "metadata": {},
   "outputs": [
    {
     "data": {
      "text/plain": [
       "[array([-0.1827805], dtype=float32),\n",
       " array([0.14705963], dtype=float32),\n",
       " array([-0.17065983], dtype=float32),\n",
       " array([0.06767647], dtype=float32),\n",
       " array([0.04060874], dtype=float32),\n",
       " array([0.03646872], dtype=float32)]"
      ]
     },
     "execution_count": 67,
     "metadata": {},
     "output_type": "execute_result"
    }
   ],
   "source": [
    "true_Q"
   ]
  },
  {
   "cell_type": "code",
   "execution_count": 69,
   "id": "f779ba00",
   "metadata": {},
   "outputs": [],
   "source": []
  },
  {
   "cell_type": "code",
   "execution_count": 75,
   "id": "22e3469e",
   "metadata": {
    "scrolled": true
   },
   "outputs": [
    {
     "data": {
      "image/png": "[encoded data removed]",
      "text/plain": [
       "<Figure size 432x288 with 1 Axes>"
      ]
     },
     "metadata": {
      "needs_background": "light"
     },
     "output_type": "display_data"
    }
   ],
   "source": []
  },
  {
   "cell_type": "code",
   "execution_count": null,
   "id": "0aab2c84",
   "metadata": {},
   "outputs": [],
   "source": []
  }
 ],
 "metadata": {
  "kernelspec": {
   "display_name": "Python 3 (ipykernel)",
   "language": "python",
   "name": "python3"
  },
  "language_info": {
   "codemirror_mode": {
    "name": "ipython",
    "version": 3
   },
   "file_extension": ".py",
   "mimetype": "text/x-python",
   "name": "python",
   "nbconvert_exporter": "python",
   "pygments_lexer": "ipython3",
   "version": "3.8.13"
  }
 },
 "nbformat": 4,
 "nbformat_minor": 5
}
